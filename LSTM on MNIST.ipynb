{
 "cells": [
  {
   "cell_type": "code",
   "execution_count": 1,
   "metadata": {
    "collapsed": true
   },
   "outputs": [],
   "source": [
    "import numpy as np\n",
    "import matplotlib.pyplot as plt\n",
    "import tensorflow as tf\n",
    "from tensorflow.examples.tutorials.mnist import input_data\n",
    "%matplotlib inline "
   ]
  },
  {
   "cell_type": "code",
   "execution_count": 2,
   "metadata": {},
   "outputs": [
    {
     "name": "stdout",
     "output_type": "stream",
     "text": [
      "Extracting data/train-images-idx3-ubyte.gz\n",
      "Extracting data/train-labels-idx1-ubyte.gz\n",
      "Extracting data/t10k-images-idx3-ubyte.gz\n",
      "Extracting data/t10k-labels-idx1-ubyte.gz\n"
     ]
    }
   ],
   "source": [
    "mnist = input_data.read_data_sets('data/', one_hot=True)\n",
    "trainimg   = mnist.train.images\n",
    "trainlabel = mnist.train.labels\n",
    "testimg    = mnist.test.images\n",
    "testlabel  = mnist.test.labels"
   ]
  },
  {
   "cell_type": "code",
   "execution_count": 3,
   "metadata": {},
   "outputs": [
    {
     "name": "stdout",
     "output_type": "stream",
     "text": [
      "Network ready\n"
     ]
    }
   ],
   "source": [
    "ntrain   = trainimg.shape[0]\n",
    "ntest    = testimg.shape[0] \n",
    "dim      = trainimg.shape[1]\n",
    "nclasses = trainlabel.shape[1]\n",
    "\n",
    "# Recurrent neural network \n",
    "diminput  = 28\n",
    "dimhidden = 128\n",
    "dimoutput = nclasses\n",
    "nsteps    = 28\n",
    "weights = {\n",
    "    'hidden': tf.Variable(tf.random_normal([diminput, dimhidden])), \n",
    "    'out': tf.Variable(tf.random_normal([dimhidden, dimoutput]))\n",
    "}\n",
    "biases = {\n",
    "    'hidden': tf.Variable(tf.random_normal([dimhidden])),\n",
    "    'out': tf.Variable(tf.random_normal([dimoutput]))\n",
    "}\n",
    "def _RNN(_X, _istate, _W, _b, _nsteps, _name):\n",
    "    # 1. Permute input from [batchsize, nsteps, diminput] => [nsteps, batchsize, diminput]\n",
    "    _X = tf.transpose(_X, [1, 0, 2])\n",
    "    # 2. Reshape input to [nsteps*batchsize, diminput] \n",
    "    _X = tf.reshape(_X, [-1, diminput])\n",
    "    # 3. Input layer => Hidden layer\n",
    "    _H = tf.matmul(_X, _W['hidden']) + _b['hidden']\n",
    "    # 4. Splite data to 'nsteps' chunks. An i-th chunck indicates i-th batch data \n",
    "    _Hsplit = tf.split(0, _nsteps, _H) \n",
    "    # 5. Get LSTM's final output (_O) and state (_S)\n",
    "    #    Both _O and _S consist of 'batchsize' elements\n",
    "    with tf.variable_scope(_name, reuse=None):\n",
    "        lstm_cell = tf.nn.rnn_cell.BasicLSTMCell(dimhidden, forget_bias=1.0)\n",
    "        _LSTM_O, _LSTM_S = tf.nn.rnn(lstm_cell, _Hsplit, initial_state=_istate)\n",
    "    # 6. Output\n",
    "    _O = tf.matmul(_LSTM_O[-1], _W['out']) + _b['out']    \n",
    "    # Return! \n",
    "    return {\n",
    "        'X': _X, 'H': _H, 'Hsplit': _Hsplit,\n",
    "        'LSTM_O': _LSTM_O, 'LSTM_S': _LSTM_S, 'O': _O \n",
    "    }\n",
    "print (\"Network ready\")"
   ]
  },
  {
   "cell_type": "code",
   "execution_count": 4,
   "metadata": {},
   "outputs": [
    {
     "name": "stderr",
     "output_type": "stream",
     "text": [
      "WARNING:tensorflow:<tensorflow.python.ops.rnn_cell.BasicLSTMCell object at 0x11e578860>: Using a concatenated state is slower and will soon be deprecated.  Use state_is_tuple=True.\n"
     ]
    },
    {
     "name": "stdout",
     "output_type": "stream",
     "text": [
      "done\n"
     ]
    }
   ],
   "source": [
    "learning_rate       = 0.001\n",
    "\n",
    "x      = tf.placeholder(\"float\", [None, diminput, nsteps])\n",
    "y      = tf.placeholder(\"float\", [None, dimoutput])\n",
    "state  = tf.placeholder(\"float\", [None, 2 * dimhidden])\n",
    "\n",
    "lstm  = _RNN(x, state, weights, biases, nsteps, 'basic')\n",
    "pred   = lstm['O']\n",
    "cost   = tf.reduce_mean(tf.nn.softmax_cross_entropy_with_logits(pred, y)) \n",
    "optm   = tf.train.AdamOptimizer(learning_rate).minimize(cost) \n",
    "accr   = tf.reduce_mean(tf.cast(tf.equal(tf.argmax(pred,1), tf.argmax(y,1)), tf.float32))\n",
    "\n",
    "print(\"done\")"
   ]
  },
  {
   "cell_type": "code",
   "execution_count": 10,
   "metadata": {},
   "outputs": [
    {
     "name": "stdout",
     "output_type": "stream",
     "text": [
      "Started ..\n",
      "Epoch: 000/005 cost: 0.495\n",
      " Training accuracy: 0.940\n",
      "Epoch: 001/005 cost: 0.137\n",
      " Training accuracy: 0.950\n",
      "Epoch: 002/005 cost: 0.087\n",
      " Training accuracy: 1.000\n",
      "Epoch: 003/005 cost: 0.063\n",
      " Training accuracy: 0.970\n",
      "Epoch: 004/005 cost: 0.050\n",
      " Training accuracy: 1.000\n",
      ".. Finished.\n"
     ]
    }
   ],
   "source": [
    "# Learning Parameters\n",
    "batch_size          = 100\n",
    "plot_step           = 1\n",
    "display_step        = 1\n",
    "training_epochs     = 5\n",
    "total_loss = np.zeros(training_epochs, dtype=np.float32)\n",
    "\n",
    "init   = tf.initialize_all_variables()\n",
    "sess = tf.Session()\n",
    "sess.run(init)\n",
    "\n",
    "print (\"Started ..\")\n",
    "for epoch in range(training_epochs):\n",
    "    avg_cost = 0.\n",
    "    num_batch = int(mnist.train.num_examples/batch_size)\n",
    "    # Loop over all batches\n",
    "    for i in range(num_batch):\n",
    "        batch_xs, batch_ys = mnist.train.next_batch(batch_size)\n",
    "        batch_xs = batch_xs.reshape((batch_size, nsteps, diminput))\n",
    "        # Fit training using batch data\n",
    "        sess.run(optm, feed_dict={x: batch_xs, y: batch_ys, state: np.zeros((batch_size, 2*dimhidden))})\n",
    "        # Compute average loss\n",
    "        avg_cost += sess.run(cost, feed_dict={x: batch_xs, y: batch_ys \n",
    "                                              , state: np.zeros((batch_size, 2*dimhidden))})/num_batch\n",
    "    # Display logs per epoch step\n",
    "    if epoch % display_step == 0: \n",
    "        print (\"Epoch: %03d/%03d cost: %.3f\" % (epoch, training_epochs, avg_cost))\n",
    "        train_acc = sess.run(accr, feed_dict={x: batch_xs, y: batch_ys, state: np.zeros((batch_size, 2*dimhidden))})\n",
    "        print (\" Training accuracy: %.3f\" % (train_acc))\n",
    "    total_loss[epoch] = avg_cost;\n",
    "print (\".. Finished.\")"
   ]
  },
  {
   "cell_type": "code",
   "execution_count": 11,
   "metadata": {},
   "outputs": [
    {
     "name": "stdout",
     "output_type": "stream",
     "text": [
      "Test accuracy of the network: 0.972\n"
     ]
    },
    {
     "data": {
      "image/png": "[encoded data removed]",
      "text/plain": [
       "<matplotlib.figure.Figure at 0x126ba7320>"
      ]
     },
     "metadata": {},
     "output_type": "display_data"
    }
   ],
   "source": [
    "#plot chart\n",
    "plt.figure(0)\n",
    "plt.ylabel('loss')\n",
    "plt.xlabel('iteration')\n",
    "plt.title(\"avg. loss vs. iteration\")\n",
    "plt.plot(total_loss)\n",
    "\n",
    "testimg = testimg.reshape((ntest, nsteps, diminput))\n",
    "test_acc = sess.run(accr, feed_dict={x: testimg, y: testlabel, state: np.zeros((ntest, 2*dimhidden))})\n",
    "print (\"Test accuracy of the network: %.3f\" % (test_acc))"
   ]
  },
  {
   "cell_type": "code",
   "execution_count": 38,
   "metadata": {},
   "outputs": [
    {
     "name": "stdout",
     "output_type": "stream",
     "text": [
      "Started ..\n",
      " If we use 28 seqs, test accuracy becomes 0.972\n",
      " If we use 27 seqs, test accuracy becomes 0.970\n",
      " If we use 26 seqs, test accuracy becomes 0.927\n",
      " If we use 25 seqs, test accuracy becomes 0.810\n",
      " If we use 24 seqs, test accuracy becomes 0.650\n",
      " If we use 23 seqs, test accuracy becomes 0.565\n",
      " If we use 22 seqs, test accuracy becomes 0.507\n",
      " If we use 21 seqs, test accuracy becomes 0.451\n",
      " If we use 20 seqs, test accuracy becomes 0.400\n",
      " If we use 19 seqs, test accuracy becomes 0.340\n",
      " If we use 18 seqs, test accuracy becomes 0.282\n",
      " If we use 17 seqs, test accuracy becomes 0.245\n",
      " If we use 16 seqs, test accuracy becomes 0.216\n",
      " If we use 15 seqs, test accuracy becomes 0.193\n",
      " If we use 14 seqs, test accuracy becomes 0.163\n",
      " If we use 13 seqs, test accuracy becomes 0.130\n",
      " If we use 12 seqs, test accuracy becomes 0.106\n",
      " If we use 11 seqs, test accuracy becomes 0.097\n",
      " If we use 10 seqs, test accuracy becomes 0.107\n",
      " If we use 9 seqs, test accuracy becomes 0.123\n",
      "Finished ..\n"
     ]
    }
   ],
   "source": [
    "n_truncate = 28\n",
    "n_cut = 20\n",
    "\n",
    "print (\"Started ...\")\n",
    "for i in range(n_cut):\n",
    "    testimg = testimg.reshape((ntest, nsteps, diminput))\n",
    "    testimg_truncated = np.zeros(testimg.shape)\n",
    "    testimg_truncated[:, (nsteps - n_truncate):, :] = testimg[:, :n_truncate, :]\n",
    "\n",
    "    test_acc = sess.run(accr, feed_dict={x: testimg_truncated, y: testlabel, state: np.zeros((ntest, 2*dimhidden))})\n",
    "    print (\" If we use %d seqs, test accuracy becomes %.3f\" % (n_truncate, test_acc))\n",
    "    n_truncate = n_truncate - 1\n",
    "\n",
    "print (\"Finished.\")\n"
   ]
  },
  {
   "cell_type": "code",
   "execution_count": null,
   "metadata": {
    "collapsed": true
   },
   "outputs": [],
   "source": []
  }
 ],
 "metadata": {
  "anaconda-cloud": {},
  "kernelspec": {
   "display_name": "Python 2",
   "language": "python",
   "name": "python2"
  },
  "language_info": {
   "codemirror_mode": {
    "name": "ipython",
    "version": 2
   },
   "file_extension": ".py",
   "mimetype": "text/x-python",
   "name": "python",
   "nbconvert_exporter": "python",
   "pygments_lexer": "ipython2",
   "version": "2.7.14"
  }
 },
 "nbformat": 4,
 "nbformat_minor": 1
}
