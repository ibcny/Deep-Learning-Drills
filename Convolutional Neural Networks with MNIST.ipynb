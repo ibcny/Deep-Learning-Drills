{
 "cells": [
  {
   "cell_type": "code",
   "execution_count": 3,
   "metadata": {},
   "outputs": [],
   "source": [
    "import numpy as np\n",
    "import matplotlib.pyplot as plt\n",
    "import tensorflow as tf\n",
    "from tensorflow.examples.tutorials.mnist import input_data\n",
    "%matplotlib inline  "
   ]
  },
  {
   "cell_type": "code",
   "execution_count": 4,
   "metadata": {},
   "outputs": [
    {
     "name": "stdout",
     "output_type": "stream",
     "text": [
      "Extracting data/train-images-idx3-ubyte.gz\n",
      "Extracting data/train-labels-idx1-ubyte.gz\n",
      "Extracting data/t10k-images-idx3-ubyte.gz\n",
      "Extracting data/t10k-labels-idx1-ubyte.gz\n",
      "Iteration No: 000/050 cost: 856.910\n",
      "Training accuracy: 0.887\n",
      "Iteration No: 001/050 cost: 817.627\n",
      "Training accuracy: 0.976\n",
      "Iteration No: 002/050 cost: 813.297\n",
      "Training accuracy: 0.984\n",
      "Iteration No: 003/050 cost: 810.880\n",
      "Training accuracy: 0.987\n",
      "Iteration No: 004/050 cost: 809.772\n",
      "Training accuracy: 0.988\n",
      "Iteration No: 005/050 cost: 808.870\n",
      "Training accuracy: 0.991\n",
      "Iteration No: 006/050 cost: 808.149\n",
      "Training accuracy: 0.991\n",
      "Iteration No: 007/050 cost: 807.460\n",
      "Training accuracy: 0.993\n",
      "Iteration No: 008/050 cost: 807.132\n",
      "Training accuracy: 0.993\n",
      "Iteration No: 009/050 cost: 806.703\n",
      "Training accuracy: 0.993\n",
      "Iteration No: 010/050 cost: 806.490\n",
      "Training accuracy: 0.994\n",
      "Iteration No: 011/050 cost: 806.315\n",
      "Training accuracy: 0.994\n",
      "Iteration No: 012/050 cost: 806.098\n",
      "Training accuracy: 0.995\n",
      "Iteration No: 013/050 cost: 805.933\n",
      "Training accuracy: 0.995\n",
      "Iteration No: 014/050 cost: 805.668\n",
      "Training accuracy: 0.996\n",
      "Iteration No: 015/050 cost: 805.736\n",
      "Training accuracy: 0.996\n",
      "Iteration No: 016/050 cost: 805.493\n",
      "Training accuracy: 0.996\n",
      "Iteration No: 017/050 cost: 805.461\n",
      "Training accuracy: 0.996\n",
      "Iteration No: 018/050 cost: 805.208\n",
      "Training accuracy: 0.996\n",
      "Iteration No: 019/050 cost: 805.111\n",
      "Training accuracy: 0.997\n",
      "Iteration No: 020/050 cost: 804.979\n",
      "Training accuracy: 0.997\n",
      "Iteration No: 021/050 cost: 805.014\n",
      "Training accuracy: 0.997\n",
      "Iteration No: 022/050 cost: 804.954\n",
      "Training accuracy: 0.997\n",
      "Iteration No: 023/050 cost: 804.854\n",
      "Training accuracy: 0.997\n",
      "Iteration No: 024/050 cost: 804.865\n",
      "Training accuracy: 0.997\n",
      "Iteration No: 025/050 cost: 804.875\n",
      "Training accuracy: 0.997\n",
      "Iteration No: 026/050 cost: 804.764\n",
      "Training accuracy: 0.997\n",
      "Iteration No: 027/050 cost: 804.797\n",
      "Training accuracy: 0.997\n",
      "Iteration No: 028/050 cost: 804.631\n",
      "Training accuracy: 0.998\n",
      "Iteration No: 029/050 cost: 804.596\n",
      "Training accuracy: 0.997\n",
      "Iteration No: 030/050 cost: 804.647\n",
      "Training accuracy: 0.997\n",
      "Iteration No: 031/050 cost: 804.682\n",
      "Training accuracy: 0.997\n",
      "Iteration No: 032/050 cost: 804.585\n",
      "Training accuracy: 0.998\n",
      "Iteration No: 033/050 cost: 804.597\n",
      "Training accuracy: 0.998\n",
      "Iteration No: 034/050 cost: 804.581\n",
      "Training accuracy: 0.997\n",
      "Iteration No: 035/050 cost: 804.559\n",
      "Training accuracy: 0.998\n",
      "Iteration No: 036/050 cost: 804.432\n",
      "Training accuracy: 0.998\n",
      "Iteration No: 037/050 cost: 804.416\n",
      "Training accuracy: 0.998\n",
      "Iteration No: 038/050 cost: 804.453\n",
      "Training accuracy: 0.998\n",
      "Iteration No: 039/050 cost: 804.478\n",
      "Training accuracy: 0.998\n",
      "Iteration No: 040/050 cost: 804.472\n",
      "Training accuracy: 0.998\n",
      "Iteration No: 041/050 cost: 804.391\n",
      "Training accuracy: 0.998\n",
      "Iteration No: 042/050 cost: 804.391\n",
      "Training accuracy: 0.998\n",
      "Iteration No: 043/050 cost: 804.506\n",
      "Training accuracy: 0.998\n",
      "Iteration No: 044/050 cost: 804.423\n",
      "Training accuracy: 0.998\n",
      "Iteration No: 045/050 cost: 804.479\n",
      "Training accuracy: 0.998\n",
      "Iteration No: 046/050 cost: 804.435\n",
      "Training accuracy: 0.998\n",
      "Iteration No: 047/050 cost: 804.312\n",
      "Training accuracy: 0.998\n",
      "Iteration No: 048/050 cost: 804.379\n",
      "Training accuracy: 0.998\n",
      "Iteration No: 049/050 cost: 804.379\n",
      "Training accuracy: 0.998\n",
      "Optimization Finished!\n"
     ]
    }
   ],
   "source": [
    "n_input_width = 28\n",
    "n_input_height = 28\n",
    "n_input_channel = 1\n",
    "\n",
    "n_conv1_patch_size = 3 \n",
    "n_conv1_filter = 64\n",
    "n_conv2_patch_size = 5 \n",
    "n_conv2_filter = 64\n",
    "# Learning Parameters\n",
    "learning_rate    = 0.001\n",
    "n_epoch = 50\n",
    "batch_size = 100\n",
    "n_output  = 10 # e.g. MNIST total classes (0-9 digits)\n",
    "\n",
    "# tf Graph input\n",
    "x = tf.placeholder(tf.float32, [None, n_input_width * n_input_height])\n",
    "y = tf.placeholder(tf.float32, [None, n_output])\n",
    "\n",
    "wc1 = tf.Variable(tf.random_normal([n_conv1_patch_size, n_conv1_patch_size, n_input_channel, n_conv1_filter], stddev=0.1))\n",
    "bc1 = tf.Variable(tf.random_normal([n_conv1_filter], stddev=0.1))\n",
    "\n",
    "wc2 = tf.Variable(tf.random_normal([n_conv2_patch_size, n_conv2_patch_size, n_conv1_filter, n_conv2_filter], stddev=0.1))\n",
    "bc2 = tf.Variable(tf.random_normal([n_conv2_filter], stddev=0.1))\n",
    "\n",
    "wf1 = tf.Variable(tf.random_normal([int((n_input_width/2)*(n_input_height/2)*n_conv2_filter), n_output], stddev=0.1))\n",
    "bf1 = tf.Variable(tf.random_normal([n_output], stddev=0.1))\n",
    "\n",
    "# Reshape input\n",
    "input_r = tf.reshape(x, shape=[-1, n_input_width, n_input_width, n_input_channel])\n",
    "# Convolution\n",
    "conv = tf.nn.conv2d(input_r, wc1, strides=[1, 1, 1, 1], padding='SAME')\n",
    "# Add-bias\n",
    "bias_1 = tf.nn.bias_add(conv, bc1) # broadcasting is supported\n",
    "# Pass ReLu\n",
    "relu_1 = tf.nn.relu(bias_1)\n",
    "# Max-pooling\n",
    "pool  = tf.nn.max_pool(relu_1, ksize=[1, 2, 2, 1], strides=[1, 2, 2, 1], padding='SAME')\n",
    "\n",
    "# Convolution\n",
    "conv_2 = tf.nn.conv2d(pool, wc2, strides=[1, 1, 1, 1], padding='SAME')\n",
    "# Add-bias\n",
    "bias_2 = tf.nn.bias_add(conv_2, bc2) # broadcasting is supported\n",
    "# Pass ReLu\n",
    "relu_2 = tf.nn.relu(bias_2)\n",
    "# Max-pooling\n",
    "#pool_2  = tf.nn.max_pool(relu_2, ksize=[1, 2, 2, 1], strides=[1, 2, 2, 1], padding='SAME')\n",
    "\n",
    "# drop out layer\n",
    "keep_prob = tf.placeholder(tf.float32)\n",
    "h_fc1_drop = tf.nn.dropout(relu_2, keep_prob)\n",
    "\n",
    "# Vectorize\n",
    "dense = tf.reshape(h_fc1_drop, [-1, wf1.get_shape().as_list()[0]])\n",
    "# Fully-connected layer\n",
    "out = tf.sigmoid(tf.add(tf.matmul(dense, wf1), bf1))\n",
    "\n",
    "# Define loss\n",
    "cost = tf.reduce_mean(tf.nn.softmax_cross_entropy_with_logits(out, y)) # Softmax loss\n",
    "optimizer = tf.train.AdamOptimizer(learning_rate=learning_rate).minimize(cost) # Adam Optimizer\n",
    "total_loss = np.zeros(n_epoch, dtype=np.float32)\n",
    "\n",
    "# Initializing the variables\n",
    "init = tf.initialize_all_variables()\n",
    "\n",
    "correct_prediction = tf.equal(tf.argmax(out, 1), tf.argmax(y, 1))    \n",
    "accuracy = tf.reduce_mean(tf.cast(correct_prediction, \"float\"))\n",
    "\n",
    "sess = tf.Session()\n",
    "sess.run(init)\n",
    "\n",
    "# MNIST\n",
    "mnist = input_data.read_data_sets('data/', one_hot=True)\n",
    "\n",
    "batch_num = int(mnist.train.num_examples / batch_size)\n",
    "\n",
    "# Training cycle\n",
    "for i in range(n_epoch):\n",
    "    # Loop over all batches\n",
    "    train_acc = 0.\n",
    "    for j in range(batch_num):\n",
    "        batch_elem, batch_label = mnist.train.next_batch(batch_size)\n",
    "        # Fit training using batch data\n",
    "        sess.run(optimizer, feed_dict={x: batch_elem, y: batch_label, keep_prob: 1.0 })\n",
    "        total_loss[i] += sess.run(cost, feed_dict={x: batch_elem, y: batch_label, keep_prob: 1.0} )\n",
    "        train_acc += sess.run(accuracy, feed_dict={x: batch_elem, y: batch_label, keep_prob: 1.0} )\n",
    "\n",
    "    print (\"Iteration No: %03d/%03d cost: %.3f\" % (i, n_epoch, total_loss[i]))\n",
    "    print (\"Training accuracy: %.3f\" % (train_acc/batch_num))\n",
    "\n",
    "print (\"Optimization Finished!\")\n",
    "\n",
    "\n"
   ]
  },
  {
   "cell_type": "code",
   "execution_count": 11,
   "metadata": {},
   "outputs": [
    {
     "name": "stdout",
     "output_type": "stream",
     "text": [
      "Test accuracy of CNN with 2 Conv Layers: 0.991\n"
     ]
    },
    {
     "data": {
      "image/png": "[encoded data removed]",
      "text/plain": [
       "<matplotlib.figure.Figure at 0x7f10bc38c048>"
      ]
     },
     "metadata": {},
     "output_type": "display_data"
    }
   ],
   "source": [
    "#plot chart\n",
    "plt.figure(0)\n",
    "plt.ylabel('loss')\n",
    "plt.xlabel('iteration')\n",
    "plt.title(\"loss vs. iteration\")\n",
    "plt.plot(total_loss)\n",
    "\n",
    "test_acc = sess.run(accuracy, feed_dict={x: mnist.test.images, y: mnist.test.labels, keep_prob: 1.0})\n",
    "print (\"Test accuracy of CNN with 2 Conv Layers: %.3f\" % (test_acc))"
   ]
  },
  {
   "cell_type": "code",
   "execution_count": 16,
   "metadata": {},
   "outputs": [
    {
     "name": "stdout",
     "output_type": "stream",
     "text": [
      "Output of the random image, first and the 25th filter outputs of the 1st conv layer respectively\n"
     ]
    },
    {
     "data": {
      "text/plain": [
       "<matplotlib.image.AxesImage at 0x7f10bc275588>"
      ]
     },
     "execution_count": 16,
     "metadata": {},
     "output_type": "execute_result"
    },
    {
     "data": {
      "image/png": "[encoded data removed]",
      "text/plain": [
       "<matplotlib.figure.Figure at 0x7f10bc264748>"
      ]
     },
     "metadata": {},
     "output_type": "display_data"
    },
    {
     "data": {
      "image/png": "[encoded data removed]",
      "text/plain": [
       "<matplotlib.figure.Figure at 0x7f10bc09beb8>"
      ]
     },
     "metadata": {},
     "output_type": "display_data"
    },
    {
     "data": {
      "image/png": "[encoded data removed]",
      "text/plain": [
       "<matplotlib.figure.Figure at 0x7f10bc264a20>"
      ]
     },
     "metadata": {},
     "output_type": "display_data"
    }
   ],
   "source": [
    "nsample = 1\n",
    "randidx = np.random.randint(mnist.test.images.shape[0], size=nsample)\n",
    "curr_img   = np.reshape(mnist.test.images[randidx, :], (28, 28)) # 28 by 28 matrix \n",
    "curr_label = np.argmax(mnist.test.labels[randidx, :] ) # Label\n",
    "print(\"Output of the random image, first and the 25th filter outputs of the 1st conv layer respectively\")\n",
    "plt.matshow(curr_img, cmap=plt.get_cmap('gray'))\n",
    "\n",
    "out = sess.run(bias_1, feed_dict={x: mnist.test.images[randidx, :], y: mnist.test.labels[randidx, :], keep_prob: 1.0 })\n",
    "plt.matshow(out[0,:,:,0], cmap=plt.get_cmap('gray'))\n",
    "plt.matshow(out[0,:,:,24], cmap=plt.get_cmap('gray'))\n"
   ]
  },
  {
   "cell_type": "code",
   "execution_count": 17,
   "metadata": {
    "collapsed": true
   },
   "outputs": [],
   "source": [
    "sess.close()"
   ]
  },
  {
   "cell_type": "code",
   "execution_count": null,
   "metadata": {
    "collapsed": true
   },
   "outputs": [],
   "source": []
  }
 ],
 "metadata": {
  "kernelspec": {
   "display_name": "Python 2",
   "language": "python",
   "name": "python2"
  },
  "language_info": {
   "codemirror_mode": {
    "name": "ipython",
    "version": 2
   },
   "file_extension": ".py",
   "mimetype": "text/x-python",
   "name": "python",
   "nbconvert_exporter": "python",
   "pygments_lexer": "ipython2",
   "version": "2.7.14"
  }
 },
 "nbformat": 4,
 "nbformat_minor": 1
}
