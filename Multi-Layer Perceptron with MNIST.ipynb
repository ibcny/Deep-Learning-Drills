{
 "cells": [
  {
   "cell_type": "code",
   "execution_count": 1,
   "metadata": {},
   "outputs": [],
   "source": [
    "import numpy as np\n",
    "import matplotlib.pyplot as plt\n",
    "import tensorflow as tf\n",
    "from tensorflow.examples.tutorials.mnist import input_data\n",
    "%matplotlib inline  "
   ]
  },
  {
   "cell_type": "code",
   "execution_count": 2,
   "metadata": {},
   "outputs": [
    {
     "name": "stdout",
     "output_type": "stream",
     "text": [
      "Extracting data/train-images-idx3-ubyte.gz\n",
      "Extracting data/train-labels-idx1-ubyte.gz\n",
      "Extracting data/t10k-images-idx3-ubyte.gz\n",
      "Extracting data/t10k-labels-idx1-ubyte.gz\n",
      "Iteration No: 000/040 cost: 896.710\n",
      "Training accuracy: 0.950\n",
      "Iteration No: 001/040 cost: 842.161\n",
      "Training accuracy: 0.920\n",
      "Iteration No: 002/040 cost: 832.262\n",
      "Training accuracy: 0.970\n",
      "Iteration No: 003/040 cost: 826.301\n",
      "Training accuracy: 0.960\n",
      "Iteration No: 004/040 cost: 822.038\n",
      "Training accuracy: 0.990\n",
      "Iteration No: 005/040 cost: 818.801\n",
      "Training accuracy: 0.980\n",
      "Iteration No: 006/040 cost: 816.374\n",
      "Training accuracy: 0.990\n",
      "Iteration No: 007/040 cost: 814.407\n",
      "Training accuracy: 0.950\n",
      "Iteration No: 008/040 cost: 812.858\n",
      "Training accuracy: 0.990\n",
      "Iteration No: 009/040 cost: 811.683\n",
      "Training accuracy: 1.000\n",
      "Iteration No: 010/040 cost: 810.623\n",
      "Training accuracy: 0.970\n",
      "Iteration No: 011/040 cost: 809.765\n",
      "Training accuracy: 0.990\n",
      "Iteration No: 012/040 cost: 809.056\n",
      "Training accuracy: 1.000\n",
      "Iteration No: 013/040 cost: 808.455\n",
      "Training accuracy: 1.000\n",
      "Iteration No: 014/040 cost: 807.943\n",
      "Training accuracy: 0.990\n",
      "Iteration No: 015/040 cost: 807.598\n",
      "Training accuracy: 0.990\n",
      "Iteration No: 016/040 cost: 807.244\n",
      "Training accuracy: 1.000\n",
      "Iteration No: 017/040 cost: 806.953\n",
      "Training accuracy: 0.990\n",
      "Iteration No: 018/040 cost: 806.665\n",
      "Training accuracy: 0.990\n",
      "Iteration No: 019/040 cost: 806.490\n",
      "Training accuracy: 1.000\n",
      "Iteration No: 020/040 cost: 806.318\n",
      "Training accuracy: 1.000\n",
      "Iteration No: 021/040 cost: 806.085\n",
      "Training accuracy: 1.000\n",
      "Iteration No: 022/040 cost: 806.010\n",
      "Training accuracy: 1.000\n",
      "Iteration No: 023/040 cost: 805.848\n",
      "Training accuracy: 1.000\n",
      "Iteration No: 024/040 cost: 805.692\n",
      "Training accuracy: 1.000\n",
      "Iteration No: 025/040 cost: 805.732\n",
      "Training accuracy: 1.000\n",
      "Iteration No: 026/040 cost: 805.603\n",
      "Training accuracy: 0.970\n",
      "Iteration No: 027/040 cost: 805.558\n",
      "Training accuracy: 0.980\n",
      "Iteration No: 028/040 cost: 805.571\n",
      "Training accuracy: 1.000\n",
      "Iteration No: 029/040 cost: 805.385\n",
      "Training accuracy: 1.000\n",
      "Iteration No: 030/040 cost: 805.323\n",
      "Training accuracy: 1.000\n",
      "Iteration No: 031/040 cost: 805.422\n",
      "Training accuracy: 0.990\n",
      "Iteration No: 032/040 cost: 805.262\n",
      "Training accuracy: 1.000\n",
      "Iteration No: 033/040 cost: 805.237\n",
      "Training accuracy: 0.990\n",
      "Iteration No: 034/040 cost: 805.161\n",
      "Training accuracy: 1.000\n",
      "Iteration No: 035/040 cost: 805.219\n",
      "Training accuracy: 1.000\n",
      "Iteration No: 036/040 cost: 805.224\n",
      "Training accuracy: 1.000\n",
      "Iteration No: 037/040 cost: 805.062\n",
      "Training accuracy: 1.000\n",
      "Iteration No: 038/040 cost: 805.037\n",
      "Training accuracy: 0.990\n",
      "Iteration No: 039/040 cost: 805.161\n",
      "Training accuracy: 0.990\n",
      "Optimization Finished!\n"
     ]
    }
   ],
   "source": [
    "n_input = 784 # e.g. MNIST data input (img shape: 28*28)\n",
    "n_hidden = 392 # hidden layer num units (e.g. half of input units)\n",
    "n_classes  = 10 # e.g. MNIST total classes (0-9 digits)\n",
    "\n",
    "# Learning Parameters\n",
    "learning_rate    = 0.001\n",
    "no_of_iterations = 40\n",
    "batch_size       = 100\n",
    "\n",
    "# tf Graph variables\n",
    "x = tf.placeholder(\"float\", [None, n_input], name='x')\n",
    "y = tf.placeholder(\"float\", [None, n_classes], name='y')\n",
    "\n",
    "# Store layers weight & bias\n",
    "stddev = 0.1 # <== This greatly affects accuracy!! \n",
    "weights = {\n",
    "    'h_1': tf.Variable(tf.random_normal([n_input, n_hidden], stddev=stddev)),\n",
    "    'h_2': tf.Variable(tf.random_normal([n_hidden, n_hidden], stddev=stddev)),\n",
    "    'out': tf.Variable(tf.random_normal([n_hidden, n_classes], stddev=stddev))\n",
    "}\n",
    "biases = {\n",
    "    'b_1': tf.Variable(tf.random_normal([n_hidden])),\n",
    "    'b_2': tf.Variable(tf.random_normal([n_hidden])),\n",
    "    'out': tf.Variable(tf.random_normal([n_classes]))\n",
    "}\n",
    "\n",
    "# Create model\n",
    "hidden_layer_1 = tf.nn.sigmoid(tf.add(tf.matmul(x, weights['h_1']), biases['b_1']))\n",
    "hidden_layer_2 = tf.nn.sigmoid(tf.add(tf.matmul(hidden_layer_1, weights['h_2']), biases['b_2']))\n",
    "pred = tf.sigmoid(tf.matmul(hidden_layer_2, weights['out']) + biases['out'])\n",
    "\n",
    "# Define loss\n",
    "cost = tf.reduce_mean(tf.nn.softmax_cross_entropy_with_logits(pred, y)) # Softmax loss\n",
    "optimizer = tf.train.AdamOptimizer(learning_rate=learning_rate).minimize(cost) # Adam Optimizer\n",
    "total_loss = np.zeros(no_of_iterations, dtype=np.float32)\n",
    "\n",
    "# Initializing the variables\n",
    "init = tf.initialize_all_variables()\n",
    "\n",
    "# MNIST\n",
    "mnist = input_data.read_data_sets('data/', one_hot=True)\n",
    "\n",
    "correct_prediction = tf.equal(tf.argmax(pred, 1), tf.argmax(y, 1))    \n",
    "accuracy = tf.reduce_mean(tf.cast(correct_prediction, \"float\"))\n",
    "\n",
    "sess = tf.Session()\n",
    "sess.run(init)\n",
    "batch_num = int(mnist.train.num_examples / batch_size)\n",
    "\n",
    "\n",
    "# Training cycle\n",
    "for i in range(no_of_iterations):\n",
    "    # Loop over all batches\n",
    "    for j in range(batch_num):\n",
    "        batch_elem, batch_label = mnist.train.next_batch(batch_size)\n",
    "        # Fit training using batch data\n",
    "        sess.run(optimizer, feed_dict={x: batch_elem, y: batch_label})\n",
    "        total_loss[i] += sess.run(cost, feed_dict={x: batch_elem, y: batch_label})\n",
    "\n",
    "    print (\"Iteration No: %03d/%03d cost: %.3f\" % (i, no_of_iterations, total_loss[i]))\n",
    "    train_acc = sess.run(accuracy, feed_dict={x: batch_elem, y: batch_label})\n",
    "    print (\"Training accuracy: %.3f\" % (train_acc))\n",
    "\n",
    "print (\"Optimization Finished!\")"
   ]
  },
  {
   "cell_type": "code",
   "execution_count": 3,
   "metadata": {},
   "outputs": [
    {
     "name": "stdout",
     "output_type": "stream",
     "text": [
      "Test accuracy of NN with 2 hidden nodes: 0.982\n"
     ]
    },
    {
     "data": {
      "image/png": "[encoded data removed]",
      "text/plain": [
       "<matplotlib.figure.Figure at 0x7fa0fc6052b0>"
      ]
     },
     "metadata": {},
     "output_type": "display_data"
    }
   ],
   "source": [
    "#plot chart\n",
    "plt.figure(0)\n",
    "plt.ylabel('loss')\n",
    "plt.xlabel('iteration')\n",
    "plt.title(\"loss vs. iteration\")\n",
    "plt.plot(total_loss)\n",
    "\n",
    "test_acc = sess.run(accuracy, feed_dict={x: mnist.test.images, y: mnist.test.labels})\n",
    "print (\"Test accuracy of NN with 2 hidden nodes: %.3f\" % (test_acc))"
   ]
  },
  {
   "cell_type": "code",
   "execution_count": 4,
   "metadata": {
    "collapsed": true
   },
   "outputs": [],
   "source": [
    "sess.close()"
   ]
  },
  {
   "cell_type": "code",
   "execution_count": null,
   "metadata": {
    "collapsed": true
   },
   "outputs": [],
   "source": []
  }
 ],
 "metadata": {
  "kernelspec": {
   "display_name": "Python 2",
   "language": "python",
   "name": "python2"
  },
  "language_info": {
   "codemirror_mode": {
    "name": "ipython",
    "version": 2
   },
   "file_extension": ".py",
   "mimetype": "text/x-python",
   "name": "python",
   "nbconvert_exporter": "python",
   "pygments_lexer": "ipython2",
   "version": "2.7.14"
  }
 },
 "nbformat": 4,
 "nbformat_minor": 1
}
