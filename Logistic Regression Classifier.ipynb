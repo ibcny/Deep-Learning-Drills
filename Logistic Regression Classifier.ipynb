{
 "cells": [
  {
   "cell_type": "code",
   "execution_count": 1,
   "metadata": {
    "collapsed": true
   },
   "outputs": [],
   "source": [
    "import tensorflow as tf\n",
    "\n",
    "sess = tf.Session()\n",
    "x = tf.placeholder(\"float\", [100, 784])\n",
    "y = tf.placeholder(\"float\", [100, 10])\n",
    "w = tf.Variable(tf.random_normal([784, 10]), name='w')\n",
    "b = tf.Variable(tf.zeros([100, 10], name='b'))\n",
    "activation = tf.nn.softmax(tf.matmul(x, w) + b, 'activation')\n",
    "sq = tf.square(activation - y, name='square')\n",
    "mean = tf.reduce_mean(sq, 1, name=\"mse\")\n",
    "writer = tf.train.SummaryWriter('/tmp/tf_logs/softmax',sess.graph)\n"
   ]
  },
  {
   "cell_type": "code",
   "execution_count": null,
   "metadata": {
    "collapsed": true
   },
   "outputs": [],
   "source": []
  }
 ],
 "metadata": {
  "kernelspec": {
   "display_name": "Python 2",
   "language": "python",
   "name": "python2"
  },
  "language_info": {
   "codemirror_mode": {
    "name": "ipython",
    "version": 2
   },
   "file_extension": ".py",
   "mimetype": "text/x-python",
   "name": "python",
   "nbconvert_exporter": "python",
   "pygments_lexer": "ipython2",
   "version": "2.7.14"
  }
 },
 "nbformat": 4,
 "nbformat_minor": 1
}
